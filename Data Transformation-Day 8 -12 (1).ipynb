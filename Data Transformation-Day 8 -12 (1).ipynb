{
 "cells": [
  {
   "cell_type": "code",
   "execution_count": 5,
   "id": "c239ad46",
   "metadata": {},
   "outputs": [],
   "source": [
    "import pandas as pd"
   ]
  },
  {
   "cell_type": "code",
   "execution_count": 13,
   "id": "7367b168",
   "metadata": {},
   "outputs": [],
   "source": [
    "athlete_data=pd.read_csv('athleteData_cleaned.csv')\n",
    "modified_data=pd.read_csv('modifiedData_cleaned.csv')"
   ]
  },
  {
   "cell_type": "code",
   "execution_count": 17,
   "id": "1cf34b2d",
   "metadata": {},
   "outputs": [
    {
     "data": {
      "text/html": [
       "<div>\n",
       "<style scoped>\n",
       "    .dataframe tbody tr th:only-of-type {\n",
       "        vertical-align: middle;\n",
       "    }\n",
       "\n",
       "    .dataframe tbody tr th {\n",
       "        vertical-align: top;\n",
       "    }\n",
       "\n",
       "    .dataframe thead th {\n",
       "        text-align: right;\n",
       "    }\n",
       "</style>\n",
       "<table border=\"1\" class=\"dataframe\">\n",
       "  <thead>\n",
       "    <tr style=\"text-align: right;\">\n",
       "      <th></th>\n",
       "      <th>Unnamed: 0</th>\n",
       "      <th>ID</th>\n",
       "      <th>Sex</th>\n",
       "      <th>Age</th>\n",
       "      <th>Height</th>\n",
       "      <th>Weight</th>\n",
       "      <th>Team</th>\n",
       "      <th>Games</th>\n",
       "      <th>City</th>\n",
       "      <th>Event</th>\n",
       "      <th>Medal</th>\n",
       "    </tr>\n",
       "  </thead>\n",
       "  <tbody>\n",
       "    <tr>\n",
       "      <th>0</th>\n",
       "      <td>0</td>\n",
       "      <td>1</td>\n",
       "      <td>M</td>\n",
       "      <td>24</td>\n",
       "      <td>180.000000</td>\n",
       "      <td>80.000000</td>\n",
       "      <td>China</td>\n",
       "      <td>1992 Summer</td>\n",
       "      <td>Barcelona</td>\n",
       "      <td>Basketball Men's Basketball</td>\n",
       "      <td>None</td>\n",
       "    </tr>\n",
       "    <tr>\n",
       "      <th>1</th>\n",
       "      <td>1</td>\n",
       "      <td>2</td>\n",
       "      <td>M</td>\n",
       "      <td>23</td>\n",
       "      <td>170.000000</td>\n",
       "      <td>60.000000</td>\n",
       "      <td>China</td>\n",
       "      <td>2012 Summer</td>\n",
       "      <td>London</td>\n",
       "      <td>Judo Men's Extra-Lightweight</td>\n",
       "      <td>None</td>\n",
       "    </tr>\n",
       "    <tr>\n",
       "      <th>2</th>\n",
       "      <td>2</td>\n",
       "      <td>3</td>\n",
       "      <td>M</td>\n",
       "      <td>24</td>\n",
       "      <td>175.351352</td>\n",
       "      <td>70.711988</td>\n",
       "      <td>Denmark</td>\n",
       "      <td>1920 Summer</td>\n",
       "      <td>Antwerpen</td>\n",
       "      <td>Football Men's Football</td>\n",
       "      <td>None</td>\n",
       "    </tr>\n",
       "    <tr>\n",
       "      <th>3</th>\n",
       "      <td>3</td>\n",
       "      <td>4</td>\n",
       "      <td>M</td>\n",
       "      <td>34</td>\n",
       "      <td>175.351352</td>\n",
       "      <td>70.711988</td>\n",
       "      <td>Denmark/Sweden</td>\n",
       "      <td>1900 Summer</td>\n",
       "      <td>Paris</td>\n",
       "      <td>Tug-Of-War Men's Tug-Of-War</td>\n",
       "      <td>Gold</td>\n",
       "    </tr>\n",
       "    <tr>\n",
       "      <th>4</th>\n",
       "      <td>4</td>\n",
       "      <td>5</td>\n",
       "      <td>F</td>\n",
       "      <td>21</td>\n",
       "      <td>185.000000</td>\n",
       "      <td>82.000000</td>\n",
       "      <td>Netherlands</td>\n",
       "      <td>1988 Winter</td>\n",
       "      <td>Calgary</td>\n",
       "      <td>Speed Skating Women's 500 metres</td>\n",
       "      <td>None</td>\n",
       "    </tr>\n",
       "    <tr>\n",
       "      <th>...</th>\n",
       "      <td>...</td>\n",
       "      <td>...</td>\n",
       "      <td>...</td>\n",
       "      <td>...</td>\n",
       "      <td>...</td>\n",
       "      <td>...</td>\n",
       "      <td>...</td>\n",
       "      <td>...</td>\n",
       "      <td>...</td>\n",
       "      <td>...</td>\n",
       "      <td>...</td>\n",
       "    </tr>\n",
       "    <tr>\n",
       "      <th>260411</th>\n",
       "      <td>260411</td>\n",
       "      <td>135569</td>\n",
       "      <td>M</td>\n",
       "      <td>29</td>\n",
       "      <td>179.000000</td>\n",
       "      <td>89.000000</td>\n",
       "      <td>Poland-1</td>\n",
       "      <td>1976 Winter</td>\n",
       "      <td>Innsbruck</td>\n",
       "      <td>Luge Mixed (Men)'s Doubles</td>\n",
       "      <td>None</td>\n",
       "    </tr>\n",
       "    <tr>\n",
       "      <th>260412</th>\n",
       "      <td>260412</td>\n",
       "      <td>135570</td>\n",
       "      <td>M</td>\n",
       "      <td>27</td>\n",
       "      <td>176.000000</td>\n",
       "      <td>59.000000</td>\n",
       "      <td>Poland</td>\n",
       "      <td>2014 Winter</td>\n",
       "      <td>Sochi</td>\n",
       "      <td>Ski Jumping Men's Large Hill, Individual</td>\n",
       "      <td>None</td>\n",
       "    </tr>\n",
       "    <tr>\n",
       "      <th>260413</th>\n",
       "      <td>260413</td>\n",
       "      <td>135570</td>\n",
       "      <td>M</td>\n",
       "      <td>27</td>\n",
       "      <td>176.000000</td>\n",
       "      <td>59.000000</td>\n",
       "      <td>Poland</td>\n",
       "      <td>2014 Winter</td>\n",
       "      <td>Sochi</td>\n",
       "      <td>Ski Jumping Men's Large Hill, Team</td>\n",
       "      <td>None</td>\n",
       "    </tr>\n",
       "    <tr>\n",
       "      <th>260414</th>\n",
       "      <td>260414</td>\n",
       "      <td>135571</td>\n",
       "      <td>M</td>\n",
       "      <td>30</td>\n",
       "      <td>185.000000</td>\n",
       "      <td>96.000000</td>\n",
       "      <td>Poland</td>\n",
       "      <td>1998 Winter</td>\n",
       "      <td>Nagano</td>\n",
       "      <td>Bobsleigh Men's Four</td>\n",
       "      <td>None</td>\n",
       "    </tr>\n",
       "    <tr>\n",
       "      <th>260415</th>\n",
       "      <td>260415</td>\n",
       "      <td>135571</td>\n",
       "      <td>M</td>\n",
       "      <td>34</td>\n",
       "      <td>185.000000</td>\n",
       "      <td>96.000000</td>\n",
       "      <td>Poland</td>\n",
       "      <td>2002 Winter</td>\n",
       "      <td>Salt Lake City</td>\n",
       "      <td>Bobsleigh Men's Four</td>\n",
       "      <td>None</td>\n",
       "    </tr>\n",
       "  </tbody>\n",
       "</table>\n",
       "<p>260416 rows × 11 columns</p>\n",
       "</div>"
      ],
      "text/plain": [
       "        Unnamed: 0      ID Sex  Age      Height     Weight            Team  \\\n",
       "0                0       1   M   24  180.000000  80.000000           China   \n",
       "1                1       2   M   23  170.000000  60.000000           China   \n",
       "2                2       3   M   24  175.351352  70.711988         Denmark   \n",
       "3                3       4   M   34  175.351352  70.711988  Denmark/Sweden   \n",
       "4                4       5   F   21  185.000000  82.000000     Netherlands   \n",
       "...            ...     ...  ..  ...         ...        ...             ...   \n",
       "260411      260411  135569   M   29  179.000000  89.000000        Poland-1   \n",
       "260412      260412  135570   M   27  176.000000  59.000000          Poland   \n",
       "260413      260413  135570   M   27  176.000000  59.000000          Poland   \n",
       "260414      260414  135571   M   30  185.000000  96.000000          Poland   \n",
       "260415      260415  135571   M   34  185.000000  96.000000          Poland   \n",
       "\n",
       "              Games            City                                     Event  \\\n",
       "0       1992 Summer       Barcelona               Basketball Men's Basketball   \n",
       "1       2012 Summer          London              Judo Men's Extra-Lightweight   \n",
       "2       1920 Summer       Antwerpen                   Football Men's Football   \n",
       "3       1900 Summer           Paris               Tug-Of-War Men's Tug-Of-War   \n",
       "4       1988 Winter         Calgary          Speed Skating Women's 500 metres   \n",
       "...             ...             ...                                       ...   \n",
       "260411  1976 Winter       Innsbruck                Luge Mixed (Men)'s Doubles   \n",
       "260412  2014 Winter           Sochi  Ski Jumping Men's Large Hill, Individual   \n",
       "260413  2014 Winter           Sochi        Ski Jumping Men's Large Hill, Team   \n",
       "260414  1998 Winter          Nagano                      Bobsleigh Men's Four   \n",
       "260415  2002 Winter  Salt Lake City                      Bobsleigh Men's Four   \n",
       "\n",
       "       Medal  \n",
       "0       None  \n",
       "1       None  \n",
       "2       None  \n",
       "3       Gold  \n",
       "4       None  \n",
       "...      ...  \n",
       "260411  None  \n",
       "260412  None  \n",
       "260413  None  \n",
       "260414  None  \n",
       "260415  None  \n",
       "\n",
       "[260416 rows x 11 columns]"
      ]
     },
     "execution_count": 17,
     "metadata": {},
     "output_type": "execute_result"
    }
   ],
   "source": [
    "modified_data\n",
    "# modified_data= modified_data.drop(['Unnamed: '],axis=1)\n",
    "modified_data"
   ]
  },
  {
   "cell_type": "markdown",
   "id": "6c901644",
   "metadata": {},
   "source": [
    "## Numerical data types\n",
    "\n",
    "Discrete: To explain in simple terms, any numerical data that is countable is called discrete, for example, the number of people in a family or the number of students in a class. Discrete data can only take certain values (such as 1, 2, 3, 4, etc)\n",
    "\n",
    "\n",
    "Continuous: Any numerical data that is measurable is called continuous, for example, the height of a person or the time taken to reach a destination. Continuous data can take virtually any value (for example, 1.25, 3.8888, and 77.1276)."
   ]
  },
  {
   "cell_type": "markdown",
   "id": "cad79251",
   "metadata": {},
   "source": [
    "## Categorical Data Types\n",
    "\n",
    "Ordered: Any categorical data that has some order associated with it is called ordered categorical data, for example, movie ratings (excellent, good, bad, worst) and feedback (happy, not bad, bad). You can think of ordered data as being something you could mark on a scale.\n",
    "\n",
    "\n",
    "Nominal: Any categorical data that has no order is called nominal categorical data. Examples include gender and country."
   ]
  },
  {
   "cell_type": "markdown",
   "id": "f24c8220",
   "metadata": {},
   "source": [
    "## Handling Categorical Data\n",
    "There are some algorithms that can work well with categorical data, such as decision trees. But most machine learning algorithms cannot operate directly with categorical data. These algorithms require the input and output both to be in numerical form. If the output to be predicted is categorical, then after prediction we convert them back to categorical data from numerical data. Let's discuss some key challenges that we face while dealing with categorical data:"
   ]
  },
  {
   "cell_type": "markdown",
   "id": "2db16d24",
   "metadata": {},
   "source": [
    "<font color= blue>High cardinality</font>: Cardinality means uniqueness in data. The data column, in this case, will have a lot of different values. A good example is User ID – in a table of 500 different users, the User ID column would have 500 unique values.\n",
    "\n",
    "\n",
    "<font color = blue>Rare occurrences</font>: These data columns might have variables that occur very rarely and therefore would not be significant enough to have an impact on the model.\n",
    "\n",
    "\n",
    "<font color= blue>Frequent occurrences</font>: There might be a category in the data columns that occurs many times with very low variance, which would fail to make an impact on the model.\n",
    "\n",
    "\n",
    "<font color= blue>Won't fit</font>: This categorical data, left unprocessed, won't fit our model."
   ]
  },
  {
   "cell_type": "markdown",
   "id": "ccbc200a",
   "metadata": {},
   "source": [
    "## Encoding\n",
    "\n",
    "To address the problems associated with categorical data, we can use encoding. This is the process by which we convert a categorical variable into a numerical form. Here, we will look at three simple methods of encoding categorical data.\n",
    "\n",
    "<font color =blue>Replacing</font>\n",
    "\n",
    "This is a technique in which we replace the categorical data with a number. This is a simple replacement and does not involve much logical processing. Let's look at an exercise to get a better idea of this.\n",
    "\n",
    "Let's try replacing technique on our dataset"
   ]
  },
  {
   "cell_type": "code",
   "execution_count": null,
   "id": "e0bcf242",
   "metadata": {},
   "outputs": [],
   "source": []
  },
  {
   "cell_type": "code",
   "execution_count": null,
   "id": "70692ca8",
   "metadata": {},
   "outputs": [],
   "source": []
  },
  {
   "cell_type": "code",
   "execution_count": null,
   "id": "6288f218",
   "metadata": {},
   "outputs": [],
   "source": []
  },
  {
   "cell_type": "code",
   "execution_count": null,
   "id": "b412b1e2",
   "metadata": {},
   "outputs": [],
   "source": []
  },
  {
   "cell_type": "code",
   "execution_count": 1,
   "id": "fab79ebb",
   "metadata": {},
   "outputs": [],
   "source": [
    "#Check each and every categorical column\n"
   ]
  },
  {
   "cell_type": "code",
   "execution_count": null,
   "id": "5c8a4595",
   "metadata": {},
   "outputs": [],
   "source": []
  },
  {
   "cell_type": "code",
   "execution_count": null,
   "id": "2dbcfaca",
   "metadata": {},
   "outputs": [],
   "source": []
  },
  {
   "cell_type": "markdown",
   "id": "b51db6d3",
   "metadata": {},
   "source": [
    "<font color=blue>Label Encoding</blue>\n",
    "\n",
    "This is a technique in which we replace each value in a categorical column with numbers from 0 to N-1. For example, say we've got a list of employee names in a column. After performing label encoding, each employee name will be assigned a numeric label. But this might not be suitable for all cases because the model might consider numeric values to be weights assigned to the data. Label encoding is the best method to use for ordinal data. The scikit-learn library provides LabelEncoder(), which helps with label encoding. \n",
    "\n",
    "Converting Categorical Data to Numerical Data Using Label Encoding in our dataset"
   ]
  },
  {
   "cell_type": "code",
   "execution_count": 2,
   "id": "5a805633",
   "metadata": {},
   "outputs": [],
   "source": [
    "import numpy as np\n"
   ]
  },
  {
   "cell_type": "code",
   "execution_count": 3,
   "id": "c1808215",
   "metadata": {},
   "outputs": [
    {
     "ename": "NameError",
     "evalue": "name 'data_column_category' is not defined",
     "output_type": "error",
     "traceback": [
      "\u001b[1;31m---------------------------------------------------------------------------\u001b[0m",
      "\u001b[1;31mNameError\u001b[0m                                 Traceback (most recent call last)",
      "Input \u001b[1;32mIn [3]\u001b[0m, in \u001b[0;36m<cell line: 7>\u001b[1;34m()\u001b[0m\n\u001b[0;32m      3\u001b[0m \u001b[38;5;66;03m#Creating the object instance\u001b[39;00m\n\u001b[0;32m      5\u001b[0m label_encoder \u001b[38;5;241m=\u001b[39m LabelEncoder()\n\u001b[1;32m----> 7\u001b[0m \u001b[38;5;28;01mfor\u001b[39;00m i \u001b[38;5;129;01min\u001b[39;00m \u001b[43mdata_column_category\u001b[49m:\n\u001b[0;32m      9\u001b[0m     modified_data[i] \u001b[38;5;241m=\u001b[39m label_encoder\u001b[38;5;241m.\u001b[39mfit_transform(modified_data[i])\n\u001b[0;32m     11\u001b[0m \u001b[38;5;28mprint\u001b[39m(\u001b[38;5;124m\"\u001b[39m\u001b[38;5;124mLabel Encoded Data: \u001b[39m\u001b[38;5;124m\"\u001b[39m)\n",
      "\u001b[1;31mNameError\u001b[0m: name 'data_column_category' is not defined"
     ]
    }
   ],
   "source": [
    "from sklearn.preprocessing import LabelEncoder\n",
    "\n",
    "#Creating the object instance\n",
    "\n",
    "label_encoder = LabelEncoder()\n",
    "\n",
    "for i in data_column_category:\n",
    "\n",
    "    modified_data[i] = label_encoder.fit_transform(modified_data[i])\n",
    "\n",
    "print(\"Label Encoded Data: \")\n",
    "\n",
    "modified_data.head()"
   ]
  },
  {
   "cell_type": "markdown",
   "id": "b6020e24",
   "metadata": {},
   "source": [
    "<font color= blue>One-Hot Encoding</font>\n",
    "\n",
    "In label encoding, categorical data is converted to numerical data, and the values are assigned labels (such as 1, 2, and 3). Predictive models that use this numerical data for analysis might sometimes mistake these labels for some kind of order (for example, a model might think that a label of 3 is \"better\" than a label of 1, which is incorrect). In order to avoid this confusion, we can use one-hot encoding. Here, the label-encoded data is further divided into n number of columns. Here, n denotes the total number of unique labels generated while performing label encoding. For example, say that three new labels are generated through label encoding. Then, while performing one-hot encoding, the columns will be divided into three parts. So, the value of n is 3. Let's look at an exercise to get further clarification."
   ]
  },
  {
   "cell_type": "code",
   "execution_count": null,
   "id": "fc50078e",
   "metadata": {},
   "outputs": [],
   "source": []
  },
  {
   "cell_type": "code",
   "execution_count": null,
   "id": "6c54f81e",
   "metadata": {},
   "outputs": [],
   "source": []
  },
  {
   "cell_type": "markdown",
   "id": "92ef3d2d",
   "metadata": {},
   "source": [
    "### for more info refer: https://www.kaggle.com/code/dansbecker/using-categorical-data-with-one-hot-encoding/notebook"
   ]
  },
  {
   "cell_type": "markdown",
   "id": "952ec3f4",
   "metadata": {},
   "source": [
    "## Now that we have all numerical variables, let's deep dive into normalization"
   ]
  },
  {
   "cell_type": "markdown",
   "id": "537a5c9b",
   "metadata": {},
   "source": [
    "Data Normalization is a common practice in machine learning which consists of transforming numeric columns to a common scale. In machine learning, some feature values differ from others multiple times. The features with higher values will dominate the leaning process. However, it does not mean those variables are more important to predict the outcome of the model. Data normalization transforms multiscaled data to the same scale. After normalization, all variables have a similar influence on the model, improving the stability and performance of the learning algorithm"
   ]
  },
  {
   "cell_type": "markdown",
   "id": "24c2e97e",
   "metadata": {},
   "source": [
    "There are multiple normalization techniques in statistics: \n",
    "\n",
    "\n",
    "The min-max feature scaling\n",
    "\n",
    "\n",
    "Standardization"
   ]
  },
  {
   "attachments": {
    "image.png": {
     "image/png": "[encoded data removed]"
    }
   },
   "cell_type": "markdown",
   "id": "0587c533",
   "metadata": {},
   "source": [
    "Min-Max Normalization \n",
    "Here, all the values are scaled in between the range of [0,1] where 0 is the minimum value and 1 is the maximum value. The formula for Min-Max Normalization is –\n",
    "\n",
    "![image.png](attachment:image.png)"
   ]
  },
  {
   "cell_type": "code",
   "execution_count": null,
   "id": "cc7a7842",
   "metadata": {},
   "outputs": [],
   "source": []
  },
  {
   "cell_type": "markdown",
   "id": "98cafa0f",
   "metadata": {},
   "source": [
    "<Start Day 9 from here>"
   ]
  },
  {
   "cell_type": "markdown",
   "id": "9aed7684",
   "metadata": {},
   "source": [
    "Standardization\n",
    "\n",
    "Standardization doesn’t have any fixed minimum or maximum value. Here, the values of all the columns are scaled in such a way that they all have a mean equal to 0 and standard deviation equal to 1. This scaling technique works well with outliers. Thus, this technique is preferred if outliers are present in the dataset."
   ]
  },
  {
   "cell_type": "code",
   "execution_count": null,
   "id": "44ca6f0e",
   "metadata": {},
   "outputs": [],
   "source": []
  },
  {
   "cell_type": "markdown",
   "id": "202cc5cb",
   "metadata": {},
   "source": [
    "## Group By & Statistical Functions"
   ]
  },
  {
   "cell_type": "code",
   "execution_count": null,
   "id": "37c4a622",
   "metadata": {},
   "outputs": [],
   "source": []
  },
  {
   "cell_type": "code",
   "execution_count": null,
   "id": "d94c0895",
   "metadata": {},
   "outputs": [],
   "source": []
  },
  {
   "cell_type": "code",
   "execution_count": null,
   "id": "f877cc60",
   "metadata": {},
   "outputs": [],
   "source": []
  },
  {
   "cell_type": "code",
   "execution_count": null,
   "id": "c64f3317",
   "metadata": {},
   "outputs": [],
   "source": []
  },
  {
   "cell_type": "code",
   "execution_count": null,
   "id": "852c2bad",
   "metadata": {},
   "outputs": [],
   "source": []
  },
  {
   "cell_type": "code",
   "execution_count": null,
   "id": "27f32d8f",
   "metadata": {},
   "outputs": [],
   "source": []
  },
  {
   "cell_type": "code",
   "execution_count": null,
   "id": "58064499",
   "metadata": {},
   "outputs": [],
   "source": []
  },
  {
   "cell_type": "code",
   "execution_count": null,
   "id": "3988054e",
   "metadata": {},
   "outputs": [],
   "source": []
  },
  {
   "cell_type": "markdown",
   "id": "57e8ab5d",
   "metadata": {},
   "source": [
    "## Merge function in Pandas"
   ]
  },
  {
   "cell_type": "markdown",
   "id": "75b3cb38",
   "metadata": {},
   "source": [
    "Read the official doc from here:\n",
    "\n",
    "https://pandas.pydata.org/docs/reference/api/pandas.DataFrame.merge.html"
   ]
  },
  {
   "cell_type": "markdown",
   "id": "8e1b9b4b",
   "metadata": {},
   "source": [
    "Format:\n",
    "\n",
    "DataFrame.merge(right, how='inner', on=None, left_on=None, right_on=None, left_index=False, right_index=False, sort=False, suffixes=('_x', '_y'), copy=True, indicator=False, validate=None)"
   ]
  },
  {
   "cell_type": "code",
   "execution_count": null,
   "id": "9f95953b",
   "metadata": {},
   "outputs": [],
   "source": []
  },
  {
   "cell_type": "code",
   "execution_count": null,
   "id": "4b2d87d4",
   "metadata": {},
   "outputs": [],
   "source": []
  },
  {
   "cell_type": "code",
   "execution_count": null,
   "id": "28a37359",
   "metadata": {},
   "outputs": [],
   "source": []
  },
  {
   "cell_type": "code",
   "execution_count": null,
   "id": "8ed1098f",
   "metadata": {},
   "outputs": [],
   "source": []
  },
  {
   "cell_type": "markdown",
   "id": "e160cf9e",
   "metadata": {},
   "source": [
    "## Join function in Pandas"
   ]
  },
  {
   "cell_type": "markdown",
   "id": "2e1fcd8a",
   "metadata": {},
   "source": [
    "Format:\n",
    "\n",
    "DataFrame.join(other, on=None, how='left', lsuffix='', rsuffix='', sort=False)"
   ]
  },
  {
   "cell_type": "code",
   "execution_count": null,
   "id": "66a0c774",
   "metadata": {},
   "outputs": [],
   "source": []
  },
  {
   "cell_type": "code",
   "execution_count": null,
   "id": "88bf7e0c",
   "metadata": {},
   "outputs": [],
   "source": []
  },
  {
   "cell_type": "code",
   "execution_count": null,
   "id": "08833c80",
   "metadata": {},
   "outputs": [],
   "source": []
  },
  {
   "cell_type": "code",
   "execution_count": null,
   "id": "55e680a2",
   "metadata": {},
   "outputs": [],
   "source": []
  },
  {
   "cell_type": "markdown",
   "id": "7d3efe54",
   "metadata": {},
   "source": [
    "### joining by indexes"
   ]
  },
  {
   "cell_type": "code",
   "execution_count": null,
   "id": "6e8f3a63",
   "metadata": {},
   "outputs": [],
   "source": []
  },
  {
   "cell_type": "code",
   "execution_count": null,
   "id": "699e2b24",
   "metadata": {},
   "outputs": [],
   "source": []
  },
  {
   "cell_type": "markdown",
   "id": "6f9f2e89",
   "metadata": {},
   "source": [
    "## That's okay but what is the difference between merge & join then?"
   ]
  },
  {
   "cell_type": "markdown",
   "id": "05826cb6",
   "metadata": {},
   "source": [
    "Essentially both serve the same purpose- joining two tables. However,merge is more versatile, it requires specifying the columns as a merge key. We can specify the overlapping columns with parameter on, or can separately specify it with left_on and right_on parameters."
   ]
  },
  {
   "cell_type": "markdown",
   "id": "c2bfe085",
   "metadata": {},
   "source": [
    "## Concat Function in Pandas"
   ]
  },
  {
   "cell_type": "markdown",
   "id": "8dd74361",
   "metadata": {},
   "source": [
    "Documentation:\n",
    "\n",
    "https://pandas.pydata.org/docs/reference/api/pandas.concat.html"
   ]
  },
  {
   "cell_type": "markdown",
   "id": "ec5c41a4",
   "metadata": {},
   "source": [
    "pandas.concat(objs, axis=0, join='outer', ignore_index=False, keys=None, levels=None, names=None, verify_integrity=False, sort=False, copy=True)"
   ]
  },
  {
   "cell_type": "code",
   "execution_count": null,
   "id": "c280b6ec",
   "metadata": {
    "scrolled": true
   },
   "outputs": [],
   "source": []
  },
  {
   "cell_type": "code",
   "execution_count": null,
   "id": "4b7bf845",
   "metadata": {},
   "outputs": [],
   "source": []
  },
  {
   "cell_type": "code",
   "execution_count": null,
   "id": "1416812c",
   "metadata": {},
   "outputs": [],
   "source": []
  },
  {
   "cell_type": "markdown",
   "id": "820cd88e",
   "metadata": {},
   "source": [
    "## Quick practice!"
   ]
  },
  {
   "cell_type": "markdown",
   "id": "0760a6ca",
   "metadata": {},
   "source": [
    "Q1) Create your own dataframe with 3 columns-- marks in Math, Science & English with 3 rows filled with student names"
   ]
  },
  {
   "cell_type": "code",
   "execution_count": null,
   "id": "7ceb2f2b",
   "metadata": {},
   "outputs": [],
   "source": []
  },
  {
   "cell_type": "markdown",
   "id": "f840ccdf",
   "metadata": {},
   "source": [
    "Q2)Write a Pandas program to join the two given dataframes along rows and assign all data.\n"
   ]
  },
  {
   "cell_type": "code",
   "execution_count": null,
   "id": "953a765e",
   "metadata": {},
   "outputs": [],
   "source": []
  },
  {
   "cell_type": "markdown",
   "id": "232eb309",
   "metadata": {},
   "source": [
    "Q3) Write a Pandas program to join the two dataframes with matching records from both sides where available."
   ]
  },
  {
   "cell_type": "code",
   "execution_count": null,
   "id": "af712f38",
   "metadata": {},
   "outputs": [],
   "source": []
  },
  {
   "cell_type": "markdown",
   "id": "9efdbb84",
   "metadata": {},
   "source": [
    "Q4)Write a Pandas program to detect missing values of a given DataFrame. Display True or False. Go to the editor\n"
   ]
  },
  {
   "cell_type": "code",
   "execution_count": null,
   "id": "87dc5ac3",
   "metadata": {},
   "outputs": [],
   "source": []
  },
  {
   "cell_type": "markdown",
   "id": "cca723af",
   "metadata": {},
   "source": [
    "Q5)Write a Pandas program to split the following dataframe by school code and get mean, min, and max value of age for each school\n"
   ]
  },
  {
   "cell_type": "code",
   "execution_count": null,
   "id": "44d891e5",
   "metadata": {},
   "outputs": [],
   "source": []
  },
  {
   "cell_type": "markdown",
   "id": "7191707c",
   "metadata": {},
   "source": [
    "Q6)Write a Pandas program to drop the rows where at least one element is missing in a given DataFrame"
   ]
  },
  {
   "cell_type": "code",
   "execution_count": null,
   "id": "4e1a40b0",
   "metadata": {},
   "outputs": [],
   "source": []
  },
  {
   "cell_type": "markdown",
   "id": "31ad5f82",
   "metadata": {},
   "source": [
    "## from abc import *"
   ]
  },
  {
   "cell_type": "code",
   "execution_count": null,
   "id": "68220c31",
   "metadata": {},
   "outputs": [],
   "source": []
  },
  {
   "cell_type": "code",
   "execution_count": null,
   "id": "66d79d39",
   "metadata": {},
   "outputs": [],
   "source": []
  },
  {
   "cell_type": "code",
   "execution_count": null,
   "id": "44364765",
   "metadata": {},
   "outputs": [],
   "source": []
  },
  {
   "cell_type": "code",
   "execution_count": null,
   "id": "04c8080f",
   "metadata": {},
   "outputs": [],
   "source": []
  },
  {
   "cell_type": "markdown",
   "id": "34014506",
   "metadata": {},
   "source": [
    "## Sorting & Indexing Dataframe"
   ]
  },
  {
   "cell_type": "code",
   "execution_count": null,
   "id": "f70759a5",
   "metadata": {},
   "outputs": [],
   "source": []
  },
  {
   "cell_type": "code",
   "execution_count": null,
   "id": "3769b8d9",
   "metadata": {},
   "outputs": [],
   "source": []
  },
  {
   "cell_type": "code",
   "execution_count": null,
   "id": "c6e57afa",
   "metadata": {},
   "outputs": [],
   "source": []
  },
  {
   "cell_type": "code",
   "execution_count": null,
   "id": "f29c06f2",
   "metadata": {},
   "outputs": [],
   "source": []
  },
  {
   "cell_type": "markdown",
   "id": "5bf5bcc2",
   "metadata": {},
   "source": [
    "## Question: Return Top 3 heaviest weight player rows"
   ]
  },
  {
   "cell_type": "code",
   "execution_count": null,
   "id": "d626f565",
   "metadata": {},
   "outputs": [],
   "source": []
  },
  {
   "cell_type": "markdown",
   "id": "1ab5ba35",
   "metadata": {},
   "source": [
    "## Official Documentation:: \n",
    "https://pandas.pydata.org/docs/reference/api/pandas.DataFrame.sort_values.html"
   ]
  },
  {
   "cell_type": "code",
   "execution_count": null,
   "id": "5cd087ea",
   "metadata": {},
   "outputs": [],
   "source": []
  },
  {
   "cell_type": "code",
   "execution_count": null,
   "id": "6c3944ce",
   "metadata": {},
   "outputs": [],
   "source": []
  },
  {
   "cell_type": "code",
   "execution_count": null,
   "id": "316b111c",
   "metadata": {},
   "outputs": [],
   "source": []
  },
  {
   "cell_type": "code",
   "execution_count": null,
   "id": "bcfb4cdf",
   "metadata": {},
   "outputs": [],
   "source": []
  },
  {
   "cell_type": "code",
   "execution_count": null,
   "id": "17e36c5d",
   "metadata": {},
   "outputs": [],
   "source": []
  },
  {
   "cell_type": "code",
   "execution_count": null,
   "id": "ad7c9299",
   "metadata": {},
   "outputs": [],
   "source": []
  },
  {
   "cell_type": "markdown",
   "id": "94d3572f",
   "metadata": {},
   "source": [
    "## Indexing in Pandas"
   ]
  },
  {
   "cell_type": "markdown",
   "id": "f7ad8afa",
   "metadata": {},
   "source": [
    "Pandas Indexing using [ ], .loc[], .iloc[ ], .ix[ ]\n",
    "There are a lot of ways to pull the elements, rows, and columns from a DataFrame. There are some indexing method in Pandas which help in getting an element from a DataFrame. These indexing methods appear very similar but behave very differently. Pandas support four types of Multi-axes indexing they are:\n",
    "\n",
    "Dataframe.[ ] ; This function also known as indexing operator\n",
    "Dataframe.loc[ ] : This function is used for labels.\n",
    "Dataframe.iloc[ ] : This function is used for positions or integer based\n",
    "Dataframe.ix[] : This function is used for both label and integer based\n",
    "Collectively, they are called the indexers. These are by far the most common ways to index data. These are four function which help in getting the elements, rows, and columns from a DataFrame."
   ]
  },
  {
   "cell_type": "markdown",
   "id": "7fc92367",
   "metadata": {},
   "source": [
    "## <font color =blue>Indexing using []"
   ]
  },
  {
   "cell_type": "code",
   "execution_count": null,
   "id": "ff017c17",
   "metadata": {},
   "outputs": [],
   "source": []
  },
  {
   "cell_type": "markdown",
   "id": "59f6ac7f",
   "metadata": {},
   "source": [
    "### Selecting multiple columns"
   ]
  },
  {
   "cell_type": "code",
   "execution_count": null,
   "id": "d3f13019",
   "metadata": {},
   "outputs": [],
   "source": []
  },
  {
   "cell_type": "code",
   "execution_count": null,
   "id": "b2aea49e",
   "metadata": {},
   "outputs": [],
   "source": []
  },
  {
   "cell_type": "markdown",
   "id": "b7edc544",
   "metadata": {},
   "source": [
    "## <font color =blue>Indexing using df.loc"
   ]
  },
  {
   "cell_type": "markdown",
   "id": "00864949",
   "metadata": {},
   "source": [
    "Indexing a DataFrame using .loc[ ] :\n",
    "This function selects data by the label of the rows and columns. The df.loc indexer selects data in a different way than just the indexing operator. It can select subsets of rows or columns. It can also simultaneously select subsets of rows and columns."
   ]
  },
  {
   "cell_type": "markdown",
   "id": "9fa3b310",
   "metadata": {},
   "source": [
    "### Selecting a Single Row"
   ]
  },
  {
   "cell_type": "code",
   "execution_count": null,
   "id": "868a7a36",
   "metadata": {},
   "outputs": [],
   "source": []
  },
  {
   "cell_type": "code",
   "execution_count": null,
   "id": "c7cc15d3",
   "metadata": {},
   "outputs": [],
   "source": []
  },
  {
   "cell_type": "code",
   "execution_count": null,
   "id": "1daea295",
   "metadata": {},
   "outputs": [],
   "source": []
  },
  {
   "cell_type": "code",
   "execution_count": null,
   "id": "85f5654e",
   "metadata": {},
   "outputs": [],
   "source": []
  },
  {
   "cell_type": "code",
   "execution_count": null,
   "id": "751db7f3",
   "metadata": {},
   "outputs": [],
   "source": []
  },
  {
   "cell_type": "code",
   "execution_count": null,
   "id": "1eed368b",
   "metadata": {},
   "outputs": [],
   "source": []
  },
  {
   "cell_type": "code",
   "execution_count": null,
   "id": "04e1befd",
   "metadata": {},
   "outputs": [],
   "source": []
  },
  {
   "cell_type": "code",
   "execution_count": null,
   "id": "4c212acd",
   "metadata": {},
   "outputs": [],
   "source": []
  },
  {
   "cell_type": "code",
   "execution_count": 1,
   "id": "bc008976",
   "metadata": {},
   "outputs": [],
   "source": [
    "# setting values\n"
   ]
  },
  {
   "cell_type": "code",
   "execution_count": null,
   "id": "db20fa3b",
   "metadata": {},
   "outputs": [],
   "source": []
  },
  {
   "cell_type": "code",
   "execution_count": null,
   "id": "ecc2cd6c",
   "metadata": {},
   "outputs": [],
   "source": []
  },
  {
   "cell_type": "code",
   "execution_count": null,
   "id": "9b299880",
   "metadata": {},
   "outputs": [],
   "source": []
  },
  {
   "cell_type": "code",
   "execution_count": null,
   "id": "33479a02",
   "metadata": {},
   "outputs": [],
   "source": []
  },
  {
   "cell_type": "markdown",
   "id": "8daf45e4",
   "metadata": {},
   "source": [
    "## df.iloc"
   ]
  },
  {
   "cell_type": "markdown",
   "id": "30fa0199",
   "metadata": {},
   "source": [
    ".iloc[] is primarily integer position based (from 0 to length-1 of the axis), but may also be used with a boolean array"
   ]
  },
  {
   "cell_type": "code",
   "execution_count": null,
   "id": "ebb0acd2",
   "metadata": {},
   "outputs": [],
   "source": []
  },
  {
   "cell_type": "code",
   "execution_count": null,
   "id": "f53f72a4",
   "metadata": {},
   "outputs": [],
   "source": []
  },
  {
   "cell_type": "code",
   "execution_count": null,
   "id": "9482673f",
   "metadata": {},
   "outputs": [],
   "source": []
  },
  {
   "cell_type": "code",
   "execution_count": null,
   "id": "6d1b4d20",
   "metadata": {},
   "outputs": [],
   "source": []
  },
  {
   "cell_type": "code",
   "execution_count": null,
   "id": "5ac934fc",
   "metadata": {},
   "outputs": [],
   "source": []
  },
  {
   "cell_type": "code",
   "execution_count": null,
   "id": "0e0474ac",
   "metadata": {},
   "outputs": [],
   "source": []
  },
  {
   "cell_type": "code",
   "execution_count": null,
   "id": "2c3db065",
   "metadata": {},
   "outputs": [],
   "source": []
  },
  {
   "cell_type": "code",
   "execution_count": null,
   "id": "02e7ade2",
   "metadata": {},
   "outputs": [],
   "source": []
  },
  {
   "cell_type": "code",
   "execution_count": null,
   "id": "94238096",
   "metadata": {},
   "outputs": [],
   "source": []
  },
  {
   "cell_type": "code",
   "execution_count": null,
   "id": "0286ac8c",
   "metadata": {},
   "outputs": [],
   "source": []
  },
  {
   "cell_type": "code",
   "execution_count": null,
   "id": "4043ac22",
   "metadata": {},
   "outputs": [],
   "source": []
  },
  {
   "cell_type": "code",
   "execution_count": null,
   "id": "f31a5c5b",
   "metadata": {},
   "outputs": [],
   "source": []
  },
  {
   "cell_type": "code",
   "execution_count": null,
   "id": "35525f17",
   "metadata": {},
   "outputs": [],
   "source": []
  },
  {
   "cell_type": "code",
   "execution_count": null,
   "id": "408a6dfe",
   "metadata": {},
   "outputs": [],
   "source": []
  },
  {
   "cell_type": "code",
   "execution_count": null,
   "id": "bf3d3f4e",
   "metadata": {},
   "outputs": [],
   "source": []
  },
  {
   "cell_type": "code",
   "execution_count": 2,
   "id": "826a24da",
   "metadata": {},
   "outputs": [],
   "source": [
    "#Tilde\n",
    "\n"
   ]
  },
  {
   "cell_type": "code",
   "execution_count": null,
   "id": "5006bfa0",
   "metadata": {},
   "outputs": [],
   "source": []
  },
  {
   "cell_type": "code",
   "execution_count": null,
   "id": "3b2ddd45",
   "metadata": {},
   "outputs": [],
   "source": []
  },
  {
   "cell_type": "code",
   "execution_count": null,
   "id": "de74bba4",
   "metadata": {},
   "outputs": [],
   "source": []
  },
  {
   "cell_type": "markdown",
   "id": "c2dbdc4b",
   "metadata": {},
   "source": [
    "## Pivot Table"
   ]
  },
  {
   "cell_type": "markdown",
   "id": "779e9b1f",
   "metadata": {},
   "source": [
    "pd.pivot_table(dataframe, values='the column with which you want to populate dataframe', index= columns grouped by which you want to aggregate,columns=column name with all categorical variables, aggfunc=the aggregation(mean/median/sum/min/max)\n",
    "fill_values= the value you want to fill NaN values with)"
   ]
  },
  {
   "cell_type": "code",
   "execution_count": null,
   "id": "1ceef226",
   "metadata": {},
   "outputs": [],
   "source": []
  },
  {
   "cell_type": "code",
   "execution_count": 3,
   "id": "144388a1",
   "metadata": {},
   "outputs": [],
   "source": [
    "# Using sum in pivot table\n"
   ]
  },
  {
   "cell_type": "code",
   "execution_count": null,
   "id": "7c3cb0d8",
   "metadata": {},
   "outputs": [],
   "source": []
  },
  {
   "cell_type": "code",
   "execution_count": null,
   "id": "14d341f6",
   "metadata": {},
   "outputs": [],
   "source": []
  },
  {
   "cell_type": "code",
   "execution_count": null,
   "id": "8304901c",
   "metadata": {},
   "outputs": [],
   "source": []
  },
  {
   "cell_type": "code",
   "execution_count": 4,
   "id": "1aca1ec3",
   "metadata": {},
   "outputs": [],
   "source": [
    "## practice!\n"
   ]
  },
  {
   "cell_type": "code",
   "execution_count": null,
   "id": "b7f9c7f9",
   "metadata": {},
   "outputs": [],
   "source": []
  },
  {
   "cell_type": "code",
   "execution_count": null,
   "id": "3e4f50a4",
   "metadata": {},
   "outputs": [],
   "source": []
  },
  {
   "cell_type": "code",
   "execution_count": null,
   "id": "e76a9ca2",
   "metadata": {},
   "outputs": [],
   "source": []
  },
  {
   "cell_type": "code",
   "execution_count": null,
   "id": "d45482cc",
   "metadata": {},
   "outputs": [],
   "source": []
  },
  {
   "cell_type": "code",
   "execution_count": null,
   "id": "3becc981",
   "metadata": {},
   "outputs": [],
   "source": []
  },
  {
   "cell_type": "code",
   "execution_count": null,
   "id": "ade1a7e4",
   "metadata": {},
   "outputs": [],
   "source": []
  },
  {
   "cell_type": "code",
   "execution_count": null,
   "id": "057e6c96",
   "metadata": {},
   "outputs": [],
   "source": []
  },
  {
   "cell_type": "markdown",
   "id": "6e9e58c9",
   "metadata": {},
   "source": [
    "## Changing Datatypes in Pandas"
   ]
  },
  {
   "cell_type": "markdown",
   "id": "35825702",
   "metadata": {},
   "source": [
    "You have four main options for converting types in pandas:\n",
    "\n",
    "to_numeric() - provides functionality to safely convert non-numeric types (e.g. strings) to a suitable numeric type. (See also to_datetime() and to_timedelta().)\n",
    "\n",
    "astype() - convert (almost) any type to (almost) any other type (even if it's not necessarily sensible to do so). Also allows you to convert to categorial types (very useful).\n",
    "\n",
    "infer_objects() - a utility method to convert object columns holding Python objects to a pandas type if possible.\n",
    "\n",
    "convert_dtypes() - convert DataFrame columns to the \"best possible\" dtype that supports pd.NA (pandas' object to indicate a missing value)."
   ]
  },
  {
   "cell_type": "markdown",
   "id": "1b3362c7",
   "metadata": {},
   "source": [
    "### to_numeric()"
   ]
  },
  {
   "cell_type": "code",
   "execution_count": null,
   "id": "00195728",
   "metadata": {},
   "outputs": [],
   "source": []
  },
  {
   "cell_type": "code",
   "execution_count": null,
   "id": "c3562d23",
   "metadata": {},
   "outputs": [],
   "source": []
  },
  {
   "cell_type": "code",
   "execution_count": null,
   "id": "37db9ce8",
   "metadata": {},
   "outputs": [],
   "source": []
  },
  {
   "cell_type": "code",
   "execution_count": null,
   "id": "a267b58d",
   "metadata": {},
   "outputs": [],
   "source": []
  },
  {
   "cell_type": "markdown",
   "id": "ecfaf057",
   "metadata": {},
   "source": [
    "### astype()"
   ]
  },
  {
   "cell_type": "code",
   "execution_count": null,
   "id": "ec62dffb",
   "metadata": {},
   "outputs": [],
   "source": []
  },
  {
   "cell_type": "code",
   "execution_count": null,
   "id": "d969256b",
   "metadata": {},
   "outputs": [],
   "source": []
  },
  {
   "cell_type": "markdown",
   "id": "4a06ca33",
   "metadata": {},
   "source": [
    "### infer_objects()"
   ]
  },
  {
   "cell_type": "markdown",
   "id": "307e25d8",
   "metadata": {},
   "source": [
    "Tries to get better data types for the OBJECT datatypes"
   ]
  },
  {
   "cell_type": "code",
   "execution_count": null,
   "id": "b3bb513b",
   "metadata": {},
   "outputs": [],
   "source": []
  },
  {
   "cell_type": "code",
   "execution_count": null,
   "id": "fa0a181f",
   "metadata": {},
   "outputs": [],
   "source": []
  },
  {
   "cell_type": "code",
   "execution_count": null,
   "id": "ea034727",
   "metadata": {},
   "outputs": [],
   "source": []
  },
  {
   "cell_type": "code",
   "execution_count": null,
   "id": "33c24c8c",
   "metadata": {},
   "outputs": [],
   "source": []
  },
  {
   "cell_type": "markdown",
   "id": "782e1bd8",
   "metadata": {},
   "source": [
    "### convert_dtypes()"
   ]
  },
  {
   "cell_type": "code",
   "execution_count": null,
   "id": "1f3b8e3b",
   "metadata": {},
   "outputs": [],
   "source": []
  },
  {
   "cell_type": "code",
   "execution_count": null,
   "id": "34c6e451",
   "metadata": {},
   "outputs": [],
   "source": []
  },
  {
   "cell_type": "code",
   "execution_count": null,
   "id": "c2fa772b",
   "metadata": {},
   "outputs": [],
   "source": []
  },
  {
   "cell_type": "code",
   "execution_count": null,
   "id": "32b11dbe",
   "metadata": {},
   "outputs": [],
   "source": []
  },
  {
   "cell_type": "code",
   "execution_count": null,
   "id": "49cec68e",
   "metadata": {},
   "outputs": [],
   "source": []
  },
  {
   "cell_type": "code",
   "execution_count": null,
   "id": "6ef8b486",
   "metadata": {},
   "outputs": [],
   "source": []
  }
 ],
 "metadata": {
  "kernelspec": {
   "display_name": "Python 3 (ipykernel)",
   "language": "python",
   "name": "python3"
  },
  "language_info": {
   "codemirror_mode": {
    "name": "ipython",
    "version": 3
   },
   "file_extension": ".py",
   "mimetype": "text/x-python",
   "name": "python",
   "nbconvert_exporter": "python",
   "pygments_lexer": "ipython3",
   "version": "3.9.12"
  }
 },
 "nbformat": 4,
 "nbformat_minor": 5
}
